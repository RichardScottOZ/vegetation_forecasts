{
 "cells": [
  {
   "cell_type": "markdown",
   "metadata": {},
   "source": [
    "# Seasonal Vegetation Anomaly Forecasts\n",
    "\n"
   ]
  },
  {
   "cell_type": "markdown",
   "metadata": {},
   "source": [
    "## Description\n",
    "This notebook forecasts vegetation anomalies one-month in advance.  The vegetation anonalies are calcuated monthly using a 3-month rolling window. NDVI climatolgies have been pre-computed.  "
   ]
  },
  {
   "cell_type": "markdown",
   "metadata": {},
   "source": [
    "## Import libraries"
   ]
  },
  {
   "cell_type": "code",
   "execution_count": 1,
   "metadata": {},
   "outputs": [
    {
     "name": "stderr",
     "output_type": "stream",
     "text": [
      "/env/lib/python3.6/site-packages/datacube/storage/masking.py:4: DeprecationWarning: datacube.storage.masking has moved to datacube.utils.masking\n",
      "  category=DeprecationWarning)\n"
     ]
    }
   ],
   "source": [
    "import xarray as xr\n",
    "from datacube.utils.cog import write_cog\n",
    "import matplotlib.pyplot as plt\n",
    "import geopandas as gpd\n",
    "import pandas as pd\n",
    "import sys\n",
    "import os\n",
    "\n",
    "sys.path.append('../dea-notebooks/Scripts')\n",
    "from dea_plotting import display_map, map_shapefile\n",
    "from dea_forecasting import calculate_anomalies, autoregress_predict_xr\n",
    "from dea_dask import create_local_dask_cluster\n",
    "from dea_classificationtools import HiddenPrints\n",
    "\n",
    "%load_ext autoreload\n",
    "%autoreload 2"
   ]
  },
  {
   "cell_type": "markdown",
   "metadata": {},
   "source": [
    "### Set up local dask cluster\n",
    "\n",
    "Dask will create a local cluster of cpus for running this analysis in parallel. If you'd like to see what the dask cluster is doing, click on the hyperlink that prints after you run the cell and you can watch the cluster run."
   ]
  },
  {
   "cell_type": "code",
   "execution_count": 2,
   "metadata": {},
   "outputs": [
    {
     "data": {
      "text/html": [
       "<table style=\"border: 2px solid white;\">\n",
       "<tr>\n",
       "<td style=\"vertical-align: top; border: 0px solid white\">\n",
       "<h3 style=\"text-align: left;\">Client</h3>\n",
       "<ul style=\"text-align: left; list-style: none; margin: 0; padding: 0;\">\n",
       "  <li><b>Scheduler: </b>tcp://127.0.0.1:33039</li>\n",
       "  <li><b>Dashboard: </b><a href='/user/chad/proxy/8787/status' target='_blank'>/user/chad/proxy/8787/status</a></li>\n",
       "</ul>\n",
       "</td>\n",
       "<td style=\"vertical-align: top; border: 0px solid white\">\n",
       "<h3 style=\"text-align: left;\">Cluster</h3>\n",
       "<ul style=\"text-align: left; list-style:none; margin: 0; padding: 0;\">\n",
       "  <li><b>Workers: </b>1</li>\n",
       "  <li><b>Cores: </b>15</li>\n",
       "  <li><b>Memory: </b>125.85 GB</li>\n",
       "</ul>\n",
       "</td>\n",
       "</tr>\n",
       "</table>"
      ],
      "text/plain": [
       "<Client: 'tcp://127.0.0.1:33039' processes=1 threads=15, memory=125.85 GB>"
      ]
     },
     "metadata": {},
     "output_type": "display_data"
    }
   ],
   "source": [
    "create_local_dask_cluster()"
   ]
  },
  {
   "cell_type": "markdown",
   "metadata": {},
   "source": [
    "## Analysis Parameters\n",
    "\n",
    "The following cell sets the parameters, which define the area of interest and the season to conduct the analysis over. The parameters are:\n",
    "\n",
    "* `shp_fpath`: Provide a filepath to a shapefile that defines your AOI, if not using a shapefile then put `None` here.\n",
    "* `lat`, `lon`, `buffer`: If not using a shapefile to define the AOI, then use a latitide, longitude, and buffer to define a query 'box'.\n",
    "* `year`: The year of interest, e.g. `'2018'`\n",
    "* `season`:  The season of interest, e.g `'DJF'`,`'JFM'`, `'FMA'` etc\n",
    "* `name` : A string value used to name the output geotiff, e.g 'NSW'\n",
    "* `dask_chunks` : dictionary of values to chunk the data using dask e.g. `{'x':3000, 'y':3000}`"
   ]
  },
  {
   "cell_type": "code",
   "execution_count": 21,
   "metadata": {},
   "outputs": [],
   "source": [
    "prediction_year = '2019'\n",
    "prediction_quarter = 'JJA'\n",
    "\n",
    "shp_fpath = None#'data/mdb_shps/GWYDIR RIVER.shp'\n",
    "\n",
    "lat, lon, buff =  -32.969, 146.1278, 0.1\n",
    "resolution = (-60,60)\n",
    "dask_chunks = {'x':1000, 'y':1000}\n"
   ]
  },
  {
   "cell_type": "markdown",
   "metadata": {},
   "source": [
    "### Examine your area of interest"
   ]
  },
  {
   "cell_type": "code",
   "execution_count": 4,
   "metadata": {},
   "outputs": [],
   "source": [
    "# map_shapefile(gpd.read_file(shp_fpath), attribute='DNAME')"
   ]
  },
  {
   "cell_type": "code",
   "execution_count": null,
   "metadata": {},
   "outputs": [],
   "source": [
    "display_map(y=(lat-buff, lat + buff), x=(lon-buff, lon + buff))"
   ]
  },
  {
   "cell_type": "markdown",
   "metadata": {},
   "source": [
    "## Calculate time series of NDVI anomalies\n",
    "\n",
    "The anomalies are caclcuated using pre-computed mean and std. dev. climatologies, based on 22-year (1988-2010) time-series."
   ]
  },
  {
   "cell_type": "code",
   "execution_count": 22,
   "metadata": {},
   "outputs": [
    {
     "name": "stdout",
     "output_type": "stream",
     "text": [
      "finished19_MJJ\n"
     ]
    }
   ],
   "source": [
    "import warnings\n",
    "warnings.filterwarnings(\"ignore\")\n",
    "\n",
    "#define the 3-month intervals\n",
    "quarter= {'JFM': [1,2,3],\n",
    "           'FMA': [2,3,4],\n",
    "           'MAM': [3,4,5],\n",
    "           'AMJ': [4,5,6],\n",
    "           'MJJ': [5,6,7],\n",
    "           'JJA': [6,7,8],\n",
    "           'JAS': [7,8,9],\n",
    "           'ASO': [8,9,10],\n",
    "           'SON': [9,10,11],\n",
    "           'OND': [10,11,12],\n",
    "           'NDJ': [11,12,1],\n",
    "           'DJF': [12,1,2],\n",
    "                      }\n",
    "#get years to calculate\n",
    "years_range = int(prediction_year) - 3, int(prediction_year) \n",
    "years = [str(i) for i in range(years_range[0], years_range[1]+1)]\n",
    "\n",
    "#loop through each 3 month period and calculate the anomaly\n",
    "z=[]\n",
    "for year in years:\n",
    "    finish=False\n",
    "    for q in quarter:\n",
    "        if q == \"DJF\":\n",
    "            name=str(int(year)+1) +'_'+q\n",
    "        else:\n",
    "            name=year+'_'+q\n",
    "        \n",
    "        #stop building ts when we get to the prediction quarter\n",
    "        if name == prediction_year+\"_\"+prediction_quarter:\n",
    "            finish = True\n",
    "            break\n",
    "        else:\n",
    "            with HiddenPrints():\n",
    "                anomalies = calculate_anomalies(shp_fpath=shp_fpath,\n",
    "                            query_box=(lat,lon,buff),\n",
    "                            resolution=resolution,\n",
    "                            year=year,\n",
    "                            season=q,\n",
    "                            dask_chunks=dask_chunks).compute()\n",
    "\n",
    "        z.append(anomalies.rename(name))\n",
    "        print(\"Done: \"+name, end=\"\\r\")\n",
    "    if finish:\n",
    "        break"
   ]
  },
  {
   "cell_type": "code",
   "execution_count": 24,
   "metadata": {},
   "outputs": [
    {
     "name": "stdout",
     "output_type": "stream",
     "text": [
      "<xarray.DataArray 'Standardized Anomalies' (time: 41, y: 405, x: 350)>\n",
      "array([[[nan, nan, nan, ..., nan, nan, nan],\n",
      "        [nan, nan, nan, ..., nan, nan, nan],\n",
      "        [nan, nan, nan, ..., nan, nan, nan],\n",
      "        ...,\n",
      "        [nan, nan, nan, ..., nan, nan, nan],\n",
      "        [nan, nan, nan, ..., nan, nan, nan],\n",
      "        [inf, inf, inf, ..., inf, inf, inf]],\n",
      "\n",
      "       [[nan, nan, nan, ..., nan, nan, nan],\n",
      "        [nan, nan, nan, ..., nan, nan, nan],\n",
      "        [nan, nan, nan, ..., nan, nan, nan],\n",
      "        ...,\n",
      "        [nan, nan, nan, ..., nan, nan, nan],\n",
      "        [nan, nan, nan, ..., nan, nan, nan],\n",
      "        [inf, inf, inf, ..., inf, inf, inf]],\n",
      "\n",
      "       [[nan, nan, nan, ..., nan, nan, nan],\n",
      "        [nan, nan, nan, ..., nan, nan, nan],\n",
      "        [nan, nan, nan, ..., nan, nan, nan],\n",
      "        ...,\n",
      "...\n",
      "        ...,\n",
      "        [nan, nan, nan, ..., nan, nan, nan],\n",
      "        [nan, nan, nan, ..., nan, nan, nan],\n",
      "        [inf, inf, inf, ..., inf, inf, inf]],\n",
      "\n",
      "       [[nan, nan, nan, ..., nan, nan, nan],\n",
      "        [nan, nan, nan, ..., nan, nan, nan],\n",
      "        [nan, nan, nan, ..., nan, nan, nan],\n",
      "        ...,\n",
      "        [nan, nan, nan, ..., nan, nan, nan],\n",
      "        [nan, nan, nan, ..., nan, nan, nan],\n",
      "        [inf, inf, inf, ..., inf, inf, inf]],\n",
      "\n",
      "       [[nan, nan, nan, ..., nan, nan, nan],\n",
      "        [nan, nan, nan, ..., nan, nan, nan],\n",
      "        [nan, nan, nan, ..., nan, nan, nan],\n",
      "        ...,\n",
      "        [nan, nan, nan, ..., nan, nan, nan],\n",
      "        [nan, nan, nan, ..., nan, nan, nan],\n",
      "        [inf, inf, inf, ..., inf, inf, inf]]], dtype=float32)\n",
      "Coordinates:\n",
      "    spatial_ref  int32 3577\n",
      "  * x            (x) float64 1.298e+06 1.298e+06 ... 1.319e+06 1.319e+06\n",
      "  * y            (y) float64 -3.656e+06 -3.656e+06 ... -3.68e+06 -3.68e+06\n",
      "  * time         (time) datetime64[ns] 2016-02-29 2016-03-31 ... 2019-06-30\n",
      "Attributes:\n",
      "    grid_mapping:  spatial_ref\n"
     ]
    }
   ],
   "source": [
    "# Build back into time-series\n",
    "q_start=z[0].name[5:]\n",
    "q_end=z[-1].name[5:]\n",
    "if (q_end =='NDJ') or (q_end=='DJF'):\n",
    "    y_end=str(int(z[-1].name[0:4])+1)\n",
    "else:\n",
    "    y_end=z[-1].name[0:4]\n",
    "    \n",
    "stand_anomalies = xr.concat(\n",
    "    z,\n",
    "    dim=pd.date_range(\n",
    "            start=str(quarter.get(q_start)[1])+'/'+ z[0].name[0:4],\n",
    "            end=str(quarter.get(q_end)[2])+'/'+y_end, freq=\"M\"\n",
    ")\n",
    ").rename({\"concat_dim\": \"time\"}).rename('Standardized Anomalies')\n",
    "\n",
    "print(stand_anomalies)"
   ]
  },
  {
   "cell_type": "code",
   "execution_count": 9,
   "metadata": {},
   "outputs": [
    {
     "data": {
      "text/plain": [
       "<matplotlib.collections.QuadMesh at 0x7f2ef7f8fb70>"
      ]
     },
     "execution_count": 9,
     "metadata": {},
     "output_type": "execute_result"
    },
    {
     "data": {
      "image/png": "[encoded data removed]",
      "text/plain": [
       "<Figure size 432x288 with 2 Axes>"
      ]
     },
     "metadata": {
      "needs_background": "light"
     },
     "output_type": "display_data"
    }
   ],
   "source": [
    "stand_anomalies.isel(time=2).plot()"
   ]
  },
  {
   "cell_type": "code",
   "execution_count": null,
   "metadata": {},
   "outputs": [],
   "source": [
    "# remove any infs\n",
    "# stand_anomalies = stand_anomalies.where(~xr.ufuncs.isinf(stand_anomalies))\n",
    "\n",
    "#plot the time-series\n",
    "stand_anomalies.mean([\"x\", \"y\"]).plot(figsize=(11, 5))\n",
    "plt.title('Standardised NDVI Anomalies');"
   ]
  },
  {
   "cell_type": "markdown",
   "metadata": {},
   "source": [
    "## Make a forecast\n",
    "\n",
    "`AutoReg` doesn't like the all-NaN's slices outide the mask extent, run `stand_anomalies.fillna(-999)`"
   ]
  },
  {
   "cell_type": "code",
   "execution_count": null,
   "metadata": {},
   "outputs": [],
   "source": [
    "mask = stand_anomalies.notnull().all('time')"
   ]
  },
  {
   "cell_type": "code",
   "execution_count": null,
   "metadata": {},
   "outputs": [],
   "source": [
    "#mask where its all-NaN's\n",
    "stand_anomalies = stand_anomalies.fillna(-999)\n"
   ]
  },
  {
   "cell_type": "code",
   "execution_count": null,
   "metadata": {},
   "outputs": [],
   "source": [
    "stand_anomalies.isel(time=11).plot()"
   ]
  },
  {
   "cell_type": "code",
   "execution_count": null,
   "metadata": {},
   "outputs": [],
   "source": [
    "%%time\n",
    "prediction = autoregress_predict_xr(stand_anomalies.isel(x=range(1500,1750),y=range(1000,1250)),\n",
    "                      test_length=1,\n",
    "                      window=12,\n",
    "                      lags=12)"
   ]
  },
  {
   "cell_type": "code",
   "execution_count": null,
   "metadata": {},
   "outputs": [],
   "source": [
    "prediction = prediction.where(mask)"
   ]
  },
  {
   "cell_type": "code",
   "execution_count": null,
   "metadata": {},
   "outputs": [],
   "source": [
    "prediction.plot(size=6, vmin=-2.0, vmax=2, cmap='BrBG')\n",
    "plt.title('Standardised NDVI Anomaly one-month prediction');"
   ]
  },
  {
   "cell_type": "code",
   "execution_count": null,
   "metadata": {},
   "outputs": [],
   "source": [
    "stand_anomalies=stand_anomalies.where(mask)\n",
    "stand_anomalies.isel(x=range(1500,1750),y=range(1000,1250)).isel(time=-1).plot(size=6, vmin=-2.0, vmax=2, cmap='BrBG')\n",
    "plt.title('Standardised NDVI Anomaly observation');"
   ]
  },
  {
   "cell_type": "code",
   "execution_count": null,
   "metadata": {},
   "outputs": [],
   "source": [
    "diff = prediction - stand_anomalies.isel(time=-1)\n",
    "\n",
    "diff.plot(size=6, vmin=-2.0, vmax=2, cmap='RdBu')\n",
    "plt.title('Difference');"
   ]
  },
  {
   "cell_type": "code",
   "execution_count": null,
   "metadata": {},
   "outputs": [],
   "source": [
    "diff.mean(['x','y'])"
   ]
  },
  {
   "cell_type": "code",
   "execution_count": null,
   "metadata": {},
   "outputs": [],
   "source": []
  }
 ],
 "metadata": {
  "kernelspec": {
   "display_name": "Python 3",
   "language": "python",
   "name": "python3"
  },
  "language_info": {
   "codemirror_mode": {
    "name": "ipython",
    "version": 3
   },
   "file_extension": ".py",
   "mimetype": "text/x-python",
   "name": "python",
   "nbconvert_exporter": "python",
   "pygments_lexer": "ipython3",
   "version": "3.6.9"
  }
 },
 "nbformat": 4,
 "nbformat_minor": 4
}
