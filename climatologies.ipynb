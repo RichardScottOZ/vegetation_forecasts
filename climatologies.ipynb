{
 "cells": [
  {
   "cell_type": "code",
   "execution_count": null,
   "metadata": {},
   "outputs": [],
   "source": []
  },
  {
   "cell_type": "code",
   "execution_count": null,
   "metadata": {},
   "outputs": [],
   "source": [
    "from datacube import Datacube\n",
    "import numpy as np\n",
    "import xarray as xr\n",
    "import dask\n",
    "from datacube.utils.dask import start_local_dask\n",
    "import matplotlib.pyplot as plt\n",
    "import sys\n",
    "\n",
    "sys.path.append('../dea-notebooks/Scripts')\n",
    "from dea_datahandling import load_ard\n",
    "from dea_dask import create_local_dask_cluster"
   ]
  },
  {
   "cell_type": "code",
   "execution_count": null,
   "metadata": {},
   "outputs": [],
   "source": [
    "create_local_dask_cluster()"
   ]
  },
  {
   "cell_type": "code",
   "execution_count": null,
   "metadata": {},
   "outputs": [],
   "source": [
    "lat, lon = -33.2, 149.1\n",
    "buffer = 0.05\n",
    "time = ('1987', '2010')"
   ]
  },
  {
   "cell_type": "code",
   "execution_count": null,
   "metadata": {},
   "outputs": [],
   "source": [
    "dc = Datacube(env='c3-samples')\n",
    "\n",
    "query = {'lon': (lon - buffer, lon + buffer),\n",
    "         'lat': (lat - buffer, lat + buffer),\n",
    "         'time': time,\n",
    "         'measurements':['nbart_red', 'nbart_nir'],\n",
    "         'output_crs' :'EPSG:3577',\n",
    "         'resolution' : (-30, 30),\n",
    "         'resampling' :{\"fmask\": \"nearest\", \"*\": \"average\"}}"
   ]
  },
  {
   "cell_type": "code",
   "execution_count": null,
   "metadata": {},
   "outputs": [],
   "source": [
    "ds = load_ard(dc=dc, \n",
    "              dask_chunks={'x':150, 'y':150},\n",
    "              products=['ga_ls5t_ard_3', 'ga_ls7e_ard_3'],\n",
    "              ls7_slc_off=False,\n",
    "              **query)\n",
    "print(ds)"
   ]
  },
  {
   "cell_type": "code",
   "execution_count": null,
   "metadata": {},
   "outputs": [],
   "source": [
    "quarter= {'JFM': [1,2,3],\n",
    "                       'FMA': [2,3,4],\n",
    "                       'MAM': [3,4,5],\n",
    "                       'AMJ': [4,5,6],\n",
    "                       'MJJ': [5,6,7],\n",
    "                       'JJA': [6,7,8],\n",
    "                       'JAS': [7,8,9],\n",
    "                       'ASO': [8,9,10],\n",
    "                       'SON': [9,10,11],\n",
    "                       'OND': [10,11,12],\n",
    "                       'NDJ': [11,12,1],\n",
    "                       'DJF': [12,1,2],\n",
    "                      }\n",
    "\n",
    "def ndvi_clim_mean(data):\n",
    "    \n",
    "    def attrs_reassign(da, dtype=np.float32):\n",
    "        da_attr = data.attrs\n",
    "        da = da.assign_attrs(**da_attr)\n",
    "        return da\n",
    "    \n",
    "    ndvi = xr.Dataset(data_vars={'ndvi': (data.nbart_nir - data.nbart_red) / (data.nbart_nir + data.nbart_red)},\n",
    "                          coords=data.coords,\n",
    "                          attrs=dict(crs=data.crs))\n",
    "    \n",
    "    ndvi_var = []\n",
    "    for q in quarter:\n",
    "        ix=ndvi['time.month'].isin(quarter[q])\n",
    "        ndvi_clim_mean=ndvi.where(ix,drop = True).std(dim='time')   \n",
    "        ndvi_clim_mean=ndvi_clim_mean.to_array(name=q).drop('variable').squeeze()\n",
    "        ndvi_var.append(ndvi_clim_mean)\n",
    "\n",
    "    q_clim_mean = xr.merge(ndvi_var)   \n",
    "\n",
    "    #assign back attributes\n",
    "    q_clim_mean.attrs = data.attrs \n",
    "    q_clim_mean = q_clim_mean.apply(attrs_reassign, keep_attrs=True)  \n",
    "\n",
    "    return q_clim_mean"
   ]
  },
  {
   "cell_type": "code",
   "execution_count": null,
   "metadata": {},
   "outputs": [],
   "source": [
    "clim = ndvi_clim_mean(ds)\n",
    "print(clim)"
   ]
  }
 ],
 "metadata": {
  "kernelspec": {
   "display_name": "Python 3",
   "language": "python",
   "name": "python3"
  },
  "language_info": {
   "codemirror_mode": {
    "name": "ipython",
    "version": 3
   },
   "file_extension": ".py",
   "mimetype": "text/x-python",
   "name": "python",
   "nbconvert_exporter": "python",
   "pygments_lexer": "ipython3",
   "version": "3.6.9"
  }
 },
 "nbformat": 4,
 "nbformat_minor": 4
}
