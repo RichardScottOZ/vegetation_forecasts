{
 "cells": [
  {
   "cell_type": "code",
   "execution_count": 1,
   "metadata": {},
   "outputs": [
    {
     "name": "stderr",
     "output_type": "stream",
     "text": [
      "/env/lib/python3.6/site-packages/geopandas/_compat.py:110: UserWarning: The Shapely GEOS version (3.7.2-CAPI-1.11.0 ) is incompatible with the GEOS version PyGEOS was compiled with (3.9.1-CAPI-1.14.2). Conversions between both will be slow.\n",
      "  shapely_geos_version, geos_capi_version_string\n"
     ]
    }
   ],
   "source": [
    "from datacube import Datacube\n",
    "import numpy as np\n",
    "import xarray as xr\n",
    "import pandas as pd\n",
    "import matplotlib.pyplot as plt\n",
    "from pandas.plotting import lag_plot\n",
    "from pandas.plotting import autocorrelation_plot\n",
    "from scipy import stats, signal\n",
    "from datacube.utils.geometry import assign_crs\n",
    "\n",
    "from statsmodels.tsa.ar_model import AutoReg\n",
    "from sklearn.metrics import mean_squared_error\n",
    "from math import sqrt\n",
    "\n",
    "from dea_tools.datahandling import load_ard\n",
    "from dea_tools.plotting import display_map\n",
    "from dea_tools.dask import create_local_dask_cluster\n",
    "from dea_tools.bandindices import calculate_indices\n",
    "# from dea_tools.temporal_statistics import fast_completion, smooth"
   ]
  },
  {
   "cell_type": "code",
   "execution_count": 2,
   "metadata": {},
   "outputs": [
    {
     "data": {
      "text/html": [
       "<table style=\"border: 2px solid white;\">\n",
       "<tr>\n",
       "<td style=\"vertical-align: top; border: 0px solid white\">\n",
       "<h3 style=\"text-align: left;\">Client</h3>\n",
       "<ul style=\"text-align: left; list-style: none; margin: 0; padding: 0;\">\n",
       "  <li><b>Scheduler: </b>tcp://127.0.0.1:37677</li>\n",
       "  <li><b>Dashboard: </b><a href='/user/chad/proxy/8787/status' target='_blank'>/user/chad/proxy/8787/status</a></li>\n",
       "</ul>\n",
       "</td>\n",
       "<td style=\"vertical-align: top; border: 0px solid white\">\n",
       "<h3 style=\"text-align: left;\">Cluster</h3>\n",
       "<ul style=\"text-align: left; list-style:none; margin: 0; padding: 0;\">\n",
       "  <li><b>Workers: </b>1</li>\n",
       "  <li><b>Cores: </b>7</li>\n",
       "  <li><b>Memory: </b>63.57 GB</li>\n",
       "</ul>\n",
       "</td>\n",
       "</tr>\n",
       "</table>"
      ],
      "text/plain": [
       "<Client: 'tcp://127.0.0.1:37677' processes=1 threads=7, memory=63.57 GB>"
      ]
     },
     "metadata": {},
     "output_type": "display_data"
    }
   ],
   "source": [
    "create_local_dask_cluster()"
   ]
  },
  {
   "cell_type": "markdown",
   "metadata": {},
   "source": [
    "## Load Data"
   ]
  },
  {
   "cell_type": "code",
   "execution_count": 3,
   "metadata": {},
   "outputs": [],
   "source": [
    "lat, lon = -30.6378, 148.7110\n",
    "buffer = 0.01\n",
    "time = ('2014', '2020')"
   ]
  },
  {
   "cell_type": "code",
   "execution_count": 4,
   "metadata": {},
   "outputs": [
    {
     "name": "stderr",
     "output_type": "stream",
     "text": [
      "/env/lib/python3.6/site-packages/datacube/drivers/postgres/_connections.py:87: SADeprecationWarning: Calling URL() directly is deprecated and will be disabled in a future release.  The public constructor for URL is now the URL.create() method.\n",
      "  username=username, password=password,\n"
     ]
    }
   ],
   "source": [
    "dc = Datacube(app='whatevrr')\n",
    "\n",
    "query = {'lon': (lon - buffer, lon + buffer),\n",
    "         'lat': (lat - buffer, lat + buffer),\n",
    "         'time': time,\n",
    "         'measurements':['nbart_red', 'nbart_nir'],\n",
    "         'output_crs' :'EPSG:3577',\n",
    "         'resolution' : (-30, 30),\n",
    "         'resampling' :{\"fmask\": \"nearest\", \"*\": \"average\"}}"
   ]
  },
  {
   "cell_type": "code",
   "execution_count": 5,
   "metadata": {},
   "outputs": [
    {
     "data": {
      "text/html": [
       "<div style=\"width:100%;\"><div style=\"position:relative;width:100%;height:0;padding-bottom:60%;\"><iframe src=\"data:text/html;charset=utf-8;base64,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\" style=\"position:absolute;width:100%;height:100%;left:0;top:0;border:none !important;\" allowfullscreen webkitallowfullscreen mozallowfullscreen></iframe></div></div>"
      ],
      "text/plain": [
       "<folium.folium.Map at 0x7f1a084d65f8>"
      ]
     },
     "execution_count": 5,
     "metadata": {},
     "output_type": "execute_result"
    }
   ],
   "source": [
    "display_map((lon - buffer, lon + buffer),(lat - buffer, lat + buffer))"
   ]
  },
  {
   "cell_type": "code",
   "execution_count": 6,
   "metadata": {},
   "outputs": [
    {
     "name": "stdout",
     "output_type": "stream",
     "text": [
      "Finding datasets\n",
      "    ga_ls7e_ard_3\n",
      "    ga_ls8c_ard_3\n",
      "Applying pixel quality/cloud mask\n",
      "Returning 597 time steps as a dask array\n",
      "<xarray.Dataset>\n",
      "Dimensions:      (time: 597, x: 73, y: 83)\n",
      "Coordinates:\n",
      "  * time         (time) datetime64[ns] 2014-01-05T23:57:54.147384 ... 2020-12...\n",
      "  * y            (y) float64 -3.437e+06 -3.437e+06 ... -3.44e+06 -3.44e+06\n",
      "  * x            (x) float64 1.579e+06 1.579e+06 ... 1.582e+06 1.582e+06\n",
      "    spatial_ref  int32 3577\n",
      "Data variables:\n",
      "    nbart_red    (time, y, x) float32 dask.array<chunksize=(597, 83, 73), meta=np.ndarray>\n",
      "    nbart_nir    (time, y, x) float32 dask.array<chunksize=(597, 83, 73), meta=np.ndarray>\n",
      "Attributes:\n",
      "    crs:           EPSG:3577\n",
      "    grid_mapping:  spatial_ref\n"
     ]
    }
   ],
   "source": [
    "ds = load_ard(dc=dc, \n",
    "              dask_chunks={'x':-1, 'y':-1, 'time':-1},\n",
    "              products=[\"ga_ls7e_ard_3\", \"ga_ls8c_ard_3\"], # s2a_ard_granule, s2b_ard_granule\n",
    "              **query)\n",
    "print(ds)"
   ]
  },
  {
   "cell_type": "markdown",
   "metadata": {},
   "source": [
    "## Calculate standardized vegetation anomalies\n",
    "\n",
    "Alternative approach: take a 12-month rolling average, then detrend the data. Signal detrend requires removing all NaNs.\n",
    "\n",
    "    data = data.rolling(time=52, center=True).mean()[26:-26,...]\\\n",
    "    mean = data.mean(axis=0)\n",
    "    data = xr.DataArray(signal.detrend(data, axis=0), dims=data.dims, coords=data.coords) + mean\n"
   ]
  },
  {
   "cell_type": "markdown",
   "metadata": {},
   "source": [
    "### Firstly, calculate NDVI, fill the gaps, resample"
   ]
  },
  {
   "cell_type": "code",
   "execution_count": 7,
   "metadata": {},
   "outputs": [
    {
     "name": "stdout",
     "output_type": "stream",
     "text": [
      "Dropping bands ['nbart_red', 'nbart_nir']\n"
     ]
    }
   ],
   "source": [
    "#calculate NDVI\n",
    "ndvi = calculate_indices(ds, 'NDVI', drop=True, collection='ga_ls_3')\n",
    "\n",
    "#interpolate NDVI to a monthly frequency\n",
    "ndvi = ndvi.interpolate_na(dim='time', method='linear',).resample(time=\"1W\").interpolate(\"linear\")\n",
    "ndvi = ndvi.NDVI"
   ]
  },
  {
   "cell_type": "markdown",
   "metadata": {},
   "source": [
    "### Calculate the vegetation climatologies"
   ]
  },
  {
   "cell_type": "code",
   "execution_count": 8,
   "metadata": {},
   "outputs": [],
   "source": [
    "climatology_mean = ndvi.groupby(\"time.month\").mean(\"time\")\n",
    "climatology_std = ndvi.groupby(\"time.month\").std(\"time\")\n"
   ]
  },
  {
   "cell_type": "markdown",
   "metadata": {},
   "source": [
    "### Calculate standardised anomalies "
   ]
  },
  {
   "cell_type": "code",
   "execution_count": 9,
   "metadata": {},
   "outputs": [
    {
     "name": "stdout",
     "output_type": "stream",
     "text": [
      "<xarray.DataArray 'NDVI' (time: 365, y: 83, x: 73)>\n",
      "array([[[        nan,         nan,         nan, ...,         nan,\n",
      "                 nan,         nan],\n",
      "        [        nan,         nan,         nan, ...,         nan,\n",
      "                 nan,         nan],\n",
      "        [        nan,         nan,         nan, ...,         nan,\n",
      "                 nan,         nan],\n",
      "        ...,\n",
      "        [        nan,         nan,         nan, ...,         nan,\n",
      "                 nan,         nan],\n",
      "        [        nan,         nan,         nan, ...,         nan,\n",
      "                 nan,         nan],\n",
      "        [        nan,         nan,         nan, ...,         nan,\n",
      "                 nan,         nan]],\n",
      "\n",
      "       [[-0.32423187, -0.39743353, -0.49245679, ..., -0.55166453,\n",
      "         -0.48007521, -0.35298194],\n",
      "        [-0.43835854, -0.67709601, -0.73404741, ..., -0.39111858,\n",
      "         -0.53047442, -0.43569987],\n",
      "        [-0.56044058, -0.61493481, -0.63192591, ..., -0.36721178,\n",
      "         -0.55837815, -0.73527696],\n",
      "...\n",
      "        [ 0.02870244, -0.10608892,  0.67268881, ...,  0.46881934,\n",
      "          0.55775485,  0.43330893],\n",
      "        [-0.21705878,  0.04035421,  0.78925158, ...,  0.56020101,\n",
      "          0.54928856,  0.50230343],\n",
      "        [ 0.32360367,  0.76372528,  0.23608865, ...,  0.41034566,\n",
      "          0.43096417,  0.51188513]],\n",
      "\n",
      "       [[        nan,         nan,         nan, ...,         nan,\n",
      "                 nan,         nan],\n",
      "        [        nan,         nan,         nan, ...,         nan,\n",
      "                 nan,         nan],\n",
      "        [        nan,         nan,         nan, ...,         nan,\n",
      "                 nan,         nan],\n",
      "        ...,\n",
      "        [        nan,         nan,         nan, ...,         nan,\n",
      "                 nan,         nan],\n",
      "        [        nan,         nan,         nan, ...,         nan,\n",
      "                 nan,         nan],\n",
      "        [        nan,         nan,         nan, ...,         nan,\n",
      "                 nan,         nan]]])\n",
      "Coordinates:\n",
      "    spatial_ref  int32 3577\n",
      "  * y            (y) float64 -3.437e+06 -3.437e+06 ... -3.44e+06 -3.44e+06\n",
      "  * x            (x) float64 1.579e+06 1.579e+06 ... 1.582e+06 1.582e+06\n",
      "  * time         (time) datetime64[ns] 2014-01-05 2014-01-12 ... 2020-12-27\n",
      "    month        (time) int64 1 1 1 1 2 2 2 2 3 3 ... 11 11 11 11 11 12 12 12 12\n"
     ]
    }
   ],
   "source": [
    "stand_anomalies = xr.apply_ufunc(\n",
    "    lambda x, m, s: (x - m) / s,\n",
    "    ndvi.groupby(\"time.month\"),\n",
    "    climatology_mean,\n",
    "    climatology_std,\n",
    "    output_dtypes=[ndvi.dtype],\n",
    "    dask=\"allowed\"\n",
    ")\n",
    "\n",
    "stand_anomalies = stand_anomalies.compute()\n",
    "print(stand_anomalies)"
   ]
  },
  {
   "cell_type": "markdown",
   "metadata": {},
   "source": [
    "### Plot the standardised vegetation anomalies"
   ]
  },
  {
   "cell_type": "code",
   "execution_count": 10,
   "metadata": {},
   "outputs": [
    {
     "data": {
      "image/png": "[encoded data removed]",
      "text/plain": [
       "<Figure size 792x288 with 1 Axes>"
      ]
     },
     "metadata": {
      "needs_background": "light"
     },
     "output_type": "display_data"
    }
   ],
   "source": [
    "#convert to a 1d timeseries by taking the zonal mean\n",
    "zonal_mean = stand_anomalies.mean(['x','y'])\n",
    "\n",
    "#convert to a pandas dataframe\n",
    "df = zonal_mean.drop('spatial_ref').drop('month').to_dataframe(name='observations').dropna()\n",
    "\n",
    "df.plot(figsize=(11,4));"
   ]
  },
  {
   "cell_type": "markdown",
   "metadata": {},
   "source": [
    "## Testing autocorrelation\n"
   ]
  },
  {
   "cell_type": "markdown",
   "metadata": {},
   "source": [
    "#### Check for Autocorrelation (ie correlation between adjacent timesteps)"
   ]
  },
  {
   "cell_type": "code",
   "execution_count": 11,
   "metadata": {},
   "outputs": [
    {
     "data": {
      "text/plain": [
       "<matplotlib.axes._subplots.AxesSubplot at 0x7f19b2ceacc0>"
      ]
     },
     "execution_count": 11,
     "metadata": {},
     "output_type": "execute_result"
    },
    {
     "data": {
      "image/png": "[encoded data removed]",
      "text/plain": [
       "<Figure size 432x288 with 1 Axes>"
      ]
     },
     "metadata": {
      "needs_background": "light"
     },
     "output_type": "display_data"
    }
   ],
   "source": [
    "lag_plot(df)"
   ]
  },
  {
   "cell_type": "markdown",
   "metadata": {},
   "source": [
    "#### Pearsons coefficient"
   ]
  },
  {
   "cell_type": "code",
   "execution_count": 12,
   "metadata": {},
   "outputs": [
    {
     "name": "stdout",
     "output_type": "stream",
     "text": [
      "          t-1       t+1\n",
      "t-1  1.000000  0.843465\n",
      "t+1  0.843465  1.000000\n"
     ]
    }
   ],
   "source": [
    "values = pd.DataFrame(df.values)\n",
    "dataframe = pd.concat([values.shift(1), values], axis=1)\n",
    "dataframe.columns = ['t-1', 't+1']\n",
    "result = dataframe.corr()\n",
    "print(result)"
   ]
  },
  {
   "cell_type": "markdown",
   "metadata": {},
   "source": [
    "## Check for stationarity\n",
    "\n",
    "If the p-value on the ADF stat is <0.05, then time-series is stationary\n",
    "\n",
    "The KPSS statistic checks for trend stationarity. If the p-value on the KPSS stat is > 0.05, the time-series has a trend"
   ]
  },
  {
   "cell_type": "code",
   "execution_count": 13,
   "metadata": {},
   "outputs": [
    {
     "name": "stdout",
     "output_type": "stream",
     "text": [
      "ADF Statistic: -2.534\n",
      "p-value: 0.107\n",
      "\n",
      "KPSS Statistic: 0.314000\n",
      "p-value: 0.100000\n"
     ]
    },
    {
     "name": "stderr",
     "output_type": "stream",
     "text": [
      "/env/lib/python3.6/site-packages/statsmodels/tsa/stattools.py:1875: FutureWarning: The behavior of using nlags=None will change in release 0.13.Currently nlags=None is the same as nlags=\"legacy\", and so a sample-size lag length is used. After the next release, the default will change to be the same as nlags=\"auto\" which uses an automatic lag length selection method. To silence this warning, either use \"auto\" or \"legacy\"\n",
      "  warnings.warn(msg, FutureWarning)\n",
      "/env/lib/python3.6/site-packages/statsmodels/tsa/stattools.py:1911: InterpolationWarning: The test statistic is outside of the range of p-values available in the\n",
      "look-up table. The actual p-value is greater than the p-value returned.\n",
      "\n",
      "  warn_msg.format(direction=\"greater\"), InterpolationWarning\n"
     ]
    }
   ],
   "source": [
    "from statsmodels.tsa.stattools import adfuller, kpss\n",
    "\n",
    "# ADF Test\n",
    "result = adfuller(df.values, autolag='AIC')\n",
    "print(f'ADF Statistic: {round(result[0],3)}')\n",
    "print(f'p-value: {round(result[1],3)}')\n",
    "\n",
    "# KPSS Test\n",
    "result = kpss(df.values, regression='c')\n",
    "print('\\nKPSS Statistic: %f' % round(result[0],3))\n",
    "print('p-value: %f' % round(result[1],3))\n"
   ]
  },
  {
   "cell_type": "markdown",
   "metadata": {},
   "source": [
    "## Check 'forecast-ability' \n",
    "\n",
    "Using the 'Sample Entropy' we can determine how susceptible our time-series is to forecasting.  A low entropy means means more forecastable.  Compare the time-series' entropy to that of the random array for comparison."
   ]
  },
  {
   "cell_type": "code",
   "execution_count": 14,
   "metadata": {},
   "outputs": [
    {
     "name": "stdout",
     "output_type": "stream",
     "text": [
      "time-series entropy is:  1.400298409203907\n",
      "random array entropy:  2.2823823856765264\n"
     ]
    }
   ],
   "source": [
    "def SampEn(U, m, r):\n",
    "    \"\"\"Compute Sample entropy\"\"\"\n",
    "    def _maxdist(x_i, x_j):\n",
    "        return max([abs(ua - va) for ua, va in zip(x_i, x_j)])\n",
    "\n",
    "    def _phi(m):\n",
    "        x = [[U[j] for j in range(i, i + m - 1 + 1)] for i in range(N - m + 1)]\n",
    "        C = [len([1 for j in range(len(x)) if i != j and _maxdist(x[i], x[j]) <= r]) for i in range(len(x))]\n",
    "        return sum(C)\n",
    "\n",
    "    N = len(U)\n",
    "    return -np.log(_phi(m+1) / _phi(m))\n",
    "\n",
    "#create a random array for comparison\n",
    "random_arr = np.random.randint(100, size=200)\n",
    "\n",
    "print(\"time-series entropy is: \" , SampEn(df.values, m=2, r=0.2*np.std(df.values))) \n",
    "print('random array entropy: ', SampEn(random_arr, m=2, r=0.2*np.std(random_arr)))"
   ]
  },
  {
   "cell_type": "markdown",
   "metadata": {},
   "source": [
    "## Forecasting using autoregression\n",
    "\n",
    "Actually, hindcasting"
   ]
  },
  {
   "cell_type": "code",
   "execution_count": 15,
   "metadata": {},
   "outputs": [],
   "source": [
    "test_length = 10\n",
    "lag = 52"
   ]
  },
  {
   "cell_type": "code",
   "execution_count": 16,
   "metadata": {},
   "outputs": [
    {
     "name": "stdout",
     "output_type": "stream",
     "text": [
      "predicted=0.425767, expected=-0.158932\n",
      "predicted=-0.023359, expected=-0.458963\n",
      "predicted=0.206849, expected=0.494023\n",
      "predicted=0.656068, expected=0.844693\n",
      "predicted=0.369934, expected=0.442205\n",
      "predicted=0.351954, expected=-0.934424\n",
      "predicted=-0.383512, expected=-0.001840\n",
      "predicted=0.259342, expected=0.650701\n",
      "predicted=0.400683, expected=0.452307\n",
      "predicted=0.327657, expected=0.681203\n"
     ]
    },
    {
     "name": "stderr",
     "output_type": "stream",
     "text": [
      "/env/lib/python3.6/site-packages/statsmodels/tsa/ar_model.py:252: FutureWarning: The parameter names will change after 0.12 is released. Set old_names to False to use the new names now. Set old_names to True to use the old names. \n",
      "  FutureWarning,\n"
     ]
    }
   ],
   "source": [
    "# create and evaluate an updated autoregressive model\n",
    "# split dataset\n",
    "X = df.values\n",
    "train, test = X[1:len(X)-test_length], X[len(X)-test_length:]\n",
    "\n",
    "# train autoregression\n",
    "window = 25\n",
    "model = AutoReg(train, lags=lag)\n",
    "model_fit = model.fit()\n",
    "coef = model_fit.params\n",
    "\n",
    "# walk forward over time steps in test\n",
    "history = train[len(train)-window:]\n",
    "history = [history[i] for i in range(len(history))]\n",
    "\n",
    "predictions = list()\n",
    "for t in range(len(test)):\n",
    "\tlength = len(history)\n",
    "\tlag = [history[i] for i in range(length-window,length)]\n",
    "\tyhat = coef[0]\n",
    "\tfor d in range(window):\n",
    "\t\tyhat += coef[d+1] * lag[window-d-1]\n",
    "\tobs = test[t]\n",
    "\tpredictions.append(yhat)\n",
    "\thistory.append(obs)\n",
    "\tprint('predicted=%f, expected=%f' % (yhat, obs))\n"
   ]
  },
  {
   "cell_type": "code",
   "execution_count": 17,
   "metadata": {},
   "outputs": [
    {
     "name": "stdout",
     "output_type": "stream",
     "text": [
      "Test RMSE: 0.523\n"
     ]
    },
    {
     "data": {
      "text/plain": [
       "(-1.5, 1.5)"
      ]
     },
     "execution_count": 17,
     "metadata": {},
     "output_type": "execute_result"
    },
    {
     "data": {
      "image/png": "[encoded data removed]",
      "text/plain": [
       "<Figure size 792x288 with 1 Axes>"
      ]
     },
     "metadata": {
      "needs_background": "light"
     },
     "output_type": "display_data"
    }
   ],
   "source": [
    "#print the averge error\n",
    "rmse = sqrt(mean_squared_error(test, predictions))\n",
    "print('Test RMSE: %.3f' % rmse)\n",
    "\n",
    "#add results to dataframe\n",
    "pred=pd.DataFrame({'predictions':np.array(predictions).squeeze()}).set_index(df.tail(test_length).index)\n",
    "df_result=pd.concat([df,pred], axis=1, ignore_index=True).rename({0:'observations',1:'predictions'}, axis=1)\n",
    "\n",
    "#plot\n",
    "df_result.tail(test_length+5).plot(figsize=(11,4), linestyle='dashed', marker='o')\n",
    "plt.xlabel('Date')\n",
    "plt.ylabel('NDVI Std Anomaly')\n",
    "plt.ylim(-1.5,1.5)"
   ]
  },
  {
   "cell_type": "code",
   "execution_count": null,
   "metadata": {},
   "outputs": [],
   "source": []
  },
  {
   "cell_type": "markdown",
   "metadata": {},
   "source": [
    "---\n",
    "\n",
    "# Attempt forecast on 3D Array\n",
    "\n",
    "Vectorized ufunc works but can be very slow. xr.map_blocks could be a better solution\n",
    "\n"
   ]
  },
  {
   "cell_type": "code",
   "execution_count": null,
   "metadata": {},
   "outputs": [],
   "source": [
    "# %%time\n",
    "# def xr_autoregress(da, test_length, window, lags):\n",
    "#     #dropna conveneiently with pandas\n",
    "#     da =  da[~np.isnan(da)]\n",
    "#     # split dataset\n",
    "#     train, test = da[1:len(da)-test_length], da[len(da)-test_length:]\n",
    "#     # train autoregression\n",
    "#     model = AutoReg(train, lags=lags)\n",
    "#     model_fit = model.fit()\n",
    "#     coef = model_fit.params\n",
    "\n",
    "#     # walk forward over time steps in test\n",
    "#     history = train[len(train)-window:]\n",
    "#     history = [history[i] for i in range(len(history))]\n",
    "\n",
    "#     predictions = list()\n",
    "#     for t in range(len(test)):\n",
    "#         length = len(history)\n",
    "#         lag = [history[i] for i in range(length-window,length)]\n",
    "#         yhat = coef[0]\n",
    "#         for d in range(window):\n",
    "#             yhat += coef[d+1] * lag[window-d-1]\n",
    "#         obs = test[t]\n",
    "#         predictions.append(yhat)\n",
    "#         history.append(obs) \n",
    "    \n",
    "#     return np.array(predictions).flatten()\n",
    "\n",
    "# predict = xr.apply_ufunc(xr_autoregress,\n",
    "#                       stand_anomalies.isel(time=range(0, 73)), #.chunk({'x':100,'y':100, 'time':-1}),#.isel(x=range(0,100),y=range(0,100)),\n",
    "#                       kwargs={'test_length':2,'window':25,'lags':25},\n",
    "#                       input_core_dims=[['time']],\n",
    "#                       output_core_dims=[['predictions']], \n",
    "#                       output_sizes=({'predictions':2}),\n",
    "#                       exclude_dims=set(('time',)),\n",
    "#                       vectorize=True,\n",
    "#                       dask=\"allowed\",\n",
    "#                       output_dtypes=[stand_anomalies.dtype]).compute()\n",
    "\n",
    "# print(predict)"
   ]
  },
  {
   "cell_type": "code",
   "execution_count": null,
   "metadata": {},
   "outputs": [],
   "source": [
    "# predict.plot(col='predictions', col_wrap=2, cmap='BrBG', vmin=-2.0, vmax=2.0, figsize=(12,6))"
   ]
  },
  {
   "cell_type": "code",
   "execution_count": null,
   "metadata": {},
   "outputs": [],
   "source": [
    "# stand_anomalies.isel(time=range(-3,-1)).plot(col='time', col_wrap=2, cmap='BrBG', vmin=-2.0, vmax=2.0, figsize=(12,6));"
   ]
  },
  {
   "cell_type": "code",
   "execution_count": null,
   "metadata": {},
   "outputs": [],
   "source": []
  },
  {
   "cell_type": "markdown",
   "metadata": {},
   "source": [
    "### Try with Numba to speed up\n",
    "\n",
    "This works 'lazily' but then fails when trying to compute: 'killed worker'\n"
   ]
  },
  {
   "cell_type": "code",
   "execution_count": null,
   "metadata": {},
   "outputs": [],
   "source": [
    "# import dask\n",
    "# import distributed\n",
    "# dask.config.set({'distributed.scheduler.allowed-failures': 50}) "
   ]
  },
  {
   "cell_type": "code",
   "execution_count": null,
   "metadata": {},
   "outputs": [],
   "source": [
    "# %%time\n",
    "# from numba import float64, guvectorize\n",
    "# from statsmodels.tsa.ar_model import AutoReg\n",
    "\n",
    "# @guvectorize(\"(float64[:], float64[:])\", \"(n) -> (n)\", forceobj=True)\n",
    "# def xr_autoregress_gufunc(da, out):\n",
    "#     test_length=2\n",
    "#     lags=25\n",
    "#     window=25\n",
    "#     #dropnas\n",
    "#     print(da)\n",
    "#     da =  da[~np.isnan(da)]\n",
    "#     # split dataset\n",
    "#     train, test = da[1:len(da)-test_length], da[len(da)-test_length:]\n",
    "#     # train autoregression\n",
    "#     model = AutoReg(train, lags=lags)\n",
    "#     model_fit = model.fit()\n",
    "#     coef = model_fit.params\n",
    "\n",
    "#     # walk forward over time steps in test\n",
    "#     history = train[len(train)-window:]\n",
    "#     history = [history[i] for i in range(len(history))]\n",
    "\n",
    "#     predictions = list()\n",
    "#     for t in range(len(test)):\n",
    "#         length = len(history)\n",
    "#         lag = [history[i] for i in range(length-window,length)]\n",
    "#         yhat = coef[0]\n",
    "#         for d in range(window):\n",
    "#             yhat += coef[d+1] * lag[window-d-1]\n",
    "#         obs = test[t]\n",
    "#         predictions.append(yhat)\n",
    "#         history.append(obs) \n",
    "    \n",
    "#     out[:] =  np.array(predictions).flatten()\n",
    "    \n",
    "# predict = xr.apply_ufunc(xr_autoregress_gufunc,\n",
    "#                       stand_anomalies.chunk({'time':-1}),\n",
    "#                       input_core_dims=[['time']],\n",
    "#                       output_core_dims=[['predictions']], \n",
    "#                       output_sizes=({'predictions':2}),\n",
    "#                       exclude_dims=set(('time',)),\n",
    "#                       dask=\"parallelized\",\n",
    "#                       output_dtypes=[stand_anomalies.dtype])\n",
    "\n",
    "# predict"
   ]
  }
 ],
 "metadata": {
  "kernelspec": {
   "display_name": "Python 3",
   "language": "python",
   "name": "python3"
  },
  "language_info": {
   "codemirror_mode": {
    "name": "ipython",
    "version": 3
   },
   "file_extension": ".py",
   "mimetype": "text/x-python",
   "name": "python",
   "nbconvert_exporter": "python",
   "pygments_lexer": "ipython3",
   "version": "3.6.9"
  }
 },
 "nbformat": 4,
 "nbformat_minor": 4
}
