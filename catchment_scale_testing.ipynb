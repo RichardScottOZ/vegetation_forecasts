{
 "cells": [
  {
   "cell_type": "markdown",
   "metadata": {},
   "source": [
    "# Catchment-scale forecasts of veg condition\n",
    "\n",
    "Using the pre-computed NDVI quarterly climatologies (these have been calculated over all of NSW, but only a subset from the Gwdir catchment is stored on the Sandbox), see if we can predict NDVI one-month in advance.\n",
    "\n",
    "- Rescaling datasets to 150x150m to speed up testing. "
   ]
  },
  {
   "cell_type": "code",
   "execution_count": null,
   "metadata": {},
   "outputs": [],
   "source": [
    "# !pip install xarray --upgrade"
   ]
  },
  {
   "cell_type": "code",
   "execution_count": 2,
   "metadata": {},
   "outputs": [],
   "source": [
    "from datacube import Datacube\n",
    "import numpy as np\n",
    "import geopandas as gpd\n",
    "import xarray as xr\n",
    "import pandas as pd\n",
    "import matplotlib.pyplot as plt\n",
    "from pandas.plotting import lag_plot\n",
    "from pandas.plotting import autocorrelation_plot\n",
    "from datacube.utils import geometry\n",
    "from scipy import stats, signal\n",
    "from datacube.utils.geometry import assign_crs\n",
    "from odc.algo import xr_reproject\n",
    "import sys\n",
    "import os\n",
    "\n",
    "sys.path.append('../dea-notebooks/Scripts')\n",
    "from dea_datahandling import load_ard\n",
    "from dea_plotting import map_shapefile\n",
    "from dea_dask import create_local_dask_cluster\n",
    "from dea_temporal_statistics import fast_completion, smooth\n",
    "from dea_spatialtools import xr_rasterize"
   ]
  },
  {
   "cell_type": "code",
   "execution_count": 3,
   "metadata": {},
   "outputs": [
    {
     "data": {
      "text/html": [
       "<table style=\"border: 2px solid white;\">\n",
       "<tr>\n",
       "<td style=\"vertical-align: top; border: 0px solid white\">\n",
       "<h3 style=\"text-align: left;\">Client</h3>\n",
       "<ul style=\"text-align: left; list-style: none; margin: 0; padding: 0;\">\n",
       "  <li><b>Scheduler: </b>tcp://127.0.0.1:43375</li>\n",
       "  <li><b>Dashboard: </b><a href='/user/chad/proxy/8787/status' target='_blank'>/user/chad/proxy/8787/status</a></li>\n",
       "</ul>\n",
       "</td>\n",
       "<td style=\"vertical-align: top; border: 0px solid white\">\n",
       "<h3 style=\"text-align: left;\">Cluster</h3>\n",
       "<ul style=\"text-align: left; list-style:none; margin: 0; padding: 0;\">\n",
       "  <li><b>Workers: </b>1</li>\n",
       "  <li><b>Cores: </b>8</li>\n",
       "  <li><b>Memory: </b>61.42 GB</li>\n",
       "</ul>\n",
       "</td>\n",
       "</tr>\n",
       "</table>"
      ],
      "text/plain": [
       "<Client: 'tcp://127.0.0.1:43375' processes=1 threads=8, memory=61.42 GB>"
      ]
     },
     "metadata": {},
     "output_type": "display_data"
    }
   ],
   "source": [
    "create_local_dask_cluster()"
   ]
  },
  {
   "cell_type": "markdown",
   "metadata": {},
   "source": [
    "## Analysis Parameters"
   ]
  },
  {
   "cell_type": "code",
   "execution_count": 4,
   "metadata": {},
   "outputs": [],
   "source": [
    "mean_tifs = 'data/climatologies/mean/'\n",
    "std_tifs = 'data/climatologies/std/'\n",
    "\n",
    "shp = 'data/mdb_shps/GWYDIR RIVER.shp'\n",
    "time = ('2014-01', '2019-02')"
   ]
  },
  {
   "cell_type": "markdown",
   "metadata": {},
   "source": [
    "## Load data"
   ]
  },
  {
   "cell_type": "code",
   "execution_count": 5,
   "metadata": {},
   "outputs": [],
   "source": [
    "gdf = gpd.read_file(shp).to_crs('EPSG:4326')\n",
    "\n",
    "geom = geometry.Geometry(\n",
    "        gdf.geometry.values[0].__geo_interface__, geometry.CRS(\n",
    "            'epsg:4326'))\n",
    "\n",
    "dc = Datacube(app='whatevrr')\n",
    "\n",
    "query = {\"geopolygon\": geom,\n",
    "         'time': time,\n",
    "         'measurements':['nbart_red', 'nbart_nir'],\n",
    "         'output_crs' :'EPSG:3577',\n",
    "         'resolution' : (-150, 150),\n",
    "         'resampling' :{\"fmask\": \"nearest\", \"*\": \"average\"}}"
   ]
  },
  {
   "cell_type": "code",
   "execution_count": 6,
   "metadata": {},
   "outputs": [
    {
     "name": "stdout",
     "output_type": "stream",
     "text": [
      "Finding datasets\n",
      "    ga_ls8c_ard_3\n",
      "Applying pixel quality/cloud mask\n",
      "Returning 925 time steps as a dask array\n",
      "Rasterizing to match xarray.DataArray dimensions (1525, 2062)\n"
     ]
    }
   ],
   "source": [
    "ds = load_ard(dc=dc, \n",
    "              dask_chunks={'x':500, 'y':500, 'time':-1},\n",
    "              products=[\"ga_ls8c_ard_3\"],\n",
    "              **query)\n",
    "\n",
    "mask = xr_rasterize(gdf.iloc[[0]], ds)\n",
    "\n",
    "ds = ds.where(mask).astype('float32')"
   ]
  },
  {
   "cell_type": "markdown",
   "metadata": {},
   "source": [
    "## Calculate NDVI"
   ]
  },
  {
   "cell_type": "code",
   "execution_count": 7,
   "metadata": {},
   "outputs": [],
   "source": [
    "ds = (ds.nbart_nir - ds.nbart_red) / (ds.nbart_nir + ds.nbart_red)"
   ]
  },
  {
   "cell_type": "markdown",
   "metadata": {},
   "source": [
    "## Calculate 3-month rolling mean NDVI\n",
    "\n",
    "This will match the climatologies we have that are arranged like DJF,JFM,FMA,MAM etc.\n",
    "\n",
    "TODO: switch to `fast_completion` (wrap function inside xr.map_blocks or xr.apply_ufunc)"
   ]
  },
  {
   "cell_type": "code",
   "execution_count": 8,
   "metadata": {},
   "outputs": [],
   "source": [
    "ndvi_3mon_rollmean = ds.interpolate_na(dim='time', method='linear').resample(time='1M').mean().rolling(time=3, min_periods=3, center=True).mean()"
   ]
  },
  {
   "cell_type": "markdown",
   "metadata": {},
   "source": [
    "## Load climatologies\n",
    "Data is a subset over the Gwydir catchment"
   ]
  },
  {
   "cell_type": "code",
   "execution_count": 11,
   "metadata": {},
   "outputs": [],
   "source": [
    "list_of_mean_tifs = os.listdir(mean_tifs)\n",
    "list_of_std_tifs = os.listdir(std_tifs)\n",
    "\n",
    "chunks = {'x':1000, 'y':1000}\n",
    "# quarterly NDVI mean climatologies\n",
    "x = []\n",
    "for tif in list_of_mean_tifs:\n",
    "    y = assign_crs(xr.open_rasterio(mean_tifs+tif, chunks=chunks))\n",
    "    y = xr_reproject(y,ds.geobox,\"bilinear\")\n",
    "    x.append(y.rename(tif[15:-11]))\n",
    "    \n",
    "clim_mean = xr.merge(x).squeeze().drop('band')\n",
    "\n",
    "# quarterly NDVI std. dev. climatologies\n",
    "x = []\n",
    "for tif in list_of_std_tifs:\n",
    "    y = assign_crs(xr.open_rasterio(std_tifs+tif, chunks=chunks))\n",
    "    y = xr_reproject(y,ds.geobox,\"bilinear\")\n",
    "    x.append(y.rename(tif[14:-11]))\n",
    "    \n",
    "clim_std = xr.merge(x).squeeze().drop('band')"
   ]
  },
  {
   "cell_type": "markdown",
   "metadata": {},
   "source": [
    "## Calculate standardized anomalies\n",
    "\n",
    "Loop through each year+quarter and substract climatology, then rebuild time-series"
   ]
  },
  {
   "cell_type": "code",
   "execution_count": 13,
   "metadata": {},
   "outputs": [],
   "source": [
    "# First compute our arrays\n",
    "clim_std = clim_std.compute()\n",
    "clim_mean = clim_mean.compute()\n",
    "\n",
    "ndvi_3mon_rollmean = ndvi_3mon_rollmean.compute()"
   ]
  },
  {
   "cell_type": "code",
   "execution_count": 26,
   "metadata": {},
   "outputs": [
    {
     "name": "stdout",
     "output_type": "stream",
     "text": [
      "2015_JFM\n",
      "2015_FMA\n",
      "2015_MAM\n",
      "2015_AMJ\n",
      "2015_MJJ\n",
      "2015_JJA\n",
      "2015_JAS\n",
      "2015_ASO\n",
      "2015_SON\n",
      "2015_OND\n",
      "2015_NDJ\n",
      "2015_DJF\n",
      "2016_JFM\n",
      "2016_FMA\n",
      "2016_MAM\n",
      "2016_AMJ\n",
      "2016_MJJ\n",
      "2016_JJA\n",
      "2016_JAS\n",
      "2016_ASO\n",
      "2016_SON\n",
      "2016_OND\n",
      "2016_NDJ\n",
      "2016_DJF\n",
      "2017_JFM\n",
      "2017_FMA\n",
      "2017_MAM\n",
      "2017_AMJ\n",
      "2017_MJJ\n",
      "2017_JJA\n",
      "2017_JAS\n",
      "2017_ASO\n",
      "2017_SON\n",
      "2017_OND\n",
      "2017_NDJ\n",
      "2017_DJF\n",
      "2018_JFM\n",
      "2018_FMA\n",
      "2018_MAM\n",
      "2018_AMJ\n",
      "2018_MJJ\n",
      "2018_JJA\n",
      "2018_JAS\n",
      "2018_ASO\n",
      "2018_SON\n",
      "2018_OND\n",
      "2018_NDJ\n",
      "2018_DJF\n",
      "2019_JFM\n",
      "2019_FMA\n",
      "2019_MAM\n",
      "2019_AMJ\n",
      "2019_MJJ\n",
      "2019_JJA\n",
      "2019_JAS\n",
      "2019_ASO\n",
      "2019_SON\n",
      "2019_OND\n",
      "2019_NDJ\n",
      "2019_DJF\n"
     ]
    }
   ],
   "source": [
    "import warnings\n",
    "warnings.filterwarnings(\"ignore\")\n",
    "\n",
    "#define the 3-month intervals\n",
    "quarter= {'JFM': [1,2,3],\n",
    "           'FMA': [2,3,4],\n",
    "           'MAM': [3,4,5],\n",
    "           'AMJ': [4,5,6],\n",
    "           'MJJ': [5,6,7],\n",
    "           'JJA': [6,7,8],\n",
    "           'JAS': [7,8,9],\n",
    "           'ASO': [8,9,10],\n",
    "           'SON': [9,10,11],\n",
    "           'OND': [10,11,12],\n",
    "           'NDJ': [11,12,1],\n",
    "           'DJF': [12,1,2],\n",
    "                      }\n",
    "#get the unique years in ds\n",
    "years = [str(i) for i in np.unique(ndvi_3mon_rollmean.time.dt.year.values)]\n",
    "\n",
    "#loop through each 3 month period and calculate the anomaly\n",
    "z=[]\n",
    "for year in years[1:]:\n",
    "    for q in quarter:\n",
    "        months = quarter.get(q)\n",
    "        if (q == \"DJF\") or (q == \"NDJ\"):\n",
    "            time=(year + \"-\" + str(months[0]), str(int(year) + 1) + \"-\" + str(months[2]))\n",
    "        else:\n",
    "            time = (year + \"-\" + str(months[0]), year + \"-\" + str(months[2]))\n",
    "        obs=ndvi_3mon_rollmean.sel(time=slice(time[0], time[1])).mean('time')\n",
    "        m=clim_mean[q]\n",
    "        s=clim_std[q]\n",
    "        anom = (obs - m) / s\n",
    "        print(year+'_'+q)\n",
    "        anom.rename(year+'_'+q)\n",
    "        z.append(anom)"
   ]
  },
  {
   "cell_type": "code",
   "execution_count": 27,
   "metadata": {},
   "outputs": [],
   "source": [
    "# Build back into time-series\n",
    "stand_anomalies=xr.concat(z, dim='time')"
   ]
  },
  {
   "cell_type": "code",
   "execution_count": 30,
   "metadata": {},
   "outputs": [
    {
     "data": {
      "text/plain": [
       "[<matplotlib.lines.Line2D at 0x7f80101e7240>]"
      ]
     },
     "execution_count": 30,
     "metadata": {},
     "output_type": "execute_result"
    },
    {
     "data": {
      "image/png": "[encoded data removed]",
      "text/plain": [
       "<Figure size 792x360 with 1 Axes>"
      ]
     },
     "metadata": {
      "needs_background": "light"
     },
     "output_type": "display_data"
    }
   ],
   "source": [
    "stand_anomalies.mean(['x','y']).plot(figsize=(11,5))"
   ]
  },
  {
   "cell_type": "markdown",
   "metadata": {},
   "source": [
    "## Make a forecast"
   ]
  },
  {
   "cell_type": "code",
   "execution_count": 31,
   "metadata": {},
   "outputs": [],
   "source": [
    "test_length=2,\n",
    "window=25,\n",
    "lags=25"
   ]
  },
  {
   "cell_type": "code",
   "execution_count": 56,
   "metadata": {},
   "outputs": [],
   "source": [
    "%%time\n",
    "def xr_autoregress(da, test_length, window, lags):\n",
    "    #dropna conveneiently with pandas\n",
    "    da =  da[~np.isnan(da)]\n",
    "    # split dataset\n",
    "    train, test = da[1:len(da)-test_length], da[len(da)-test_length:]\n",
    "    # train autoregression\n",
    "    model = AutoReg(train, lags=lags)\n",
    "    model_fit = model.fit()\n",
    "    coef = model_fit.params\n",
    "\n",
    "    # walk forward over time steps in test\n",
    "    history = train[len(train)-window:]\n",
    "    history = [history[i] for i in range(len(history))]\n",
    "\n",
    "    predictions = list()\n",
    "    for t in range(len(test)):\n",
    "        length = len(history)\n",
    "        lag = [history[i] for i in range(length-window,length)]\n",
    "        yhat = coef[0]\n",
    "        for d in range(window):\n",
    "            yhat += coef[d+1] * lag[window-d-1]\n",
    "        obs = test[t]\n",
    "        predictions.append(yhat)\n",
    "        history.append(obs) \n",
    "    \n",
    "    return np.array(predictions).flatten()\n",
    "\n",
    "predict = xr.apply_ufunc(xr_autoregress,\n",
    "                      stand_anomalies.isel(x=range(700,1000),y=range(600,800)),\n",
    "                      kwargs={'test_length':test_length,'window':window,'lags':lags},\n",
    "                      input_core_dims=[['time']],\n",
    "                      output_core_dims=[['predictions']], \n",
    "                      output_sizes=({'predictions':test_length}),\n",
    "                      exclude_dims=set(('time',)),\n",
    "                      vectorize=True,\n",
    "                      dask=\"allowed\",\n",
    "                      output_dtypes=[stand_anomalies.dtype]).compute()\n",
    "\n",
    "print(predict)"
   ]
  },
  {
   "cell_type": "code",
   "execution_count": null,
   "metadata": {},
   "outputs": [],
   "source": []
  },
  {
   "cell_type": "code",
   "execution_count": null,
   "metadata": {},
   "outputs": [],
   "source": []
  }
 ],
 "metadata": {
  "kernelspec": {
   "display_name": "Python 3",
   "language": "python",
   "name": "python3"
  },
  "language_info": {
   "codemirror_mode": {
    "name": "ipython",
    "version": 3
   },
   "file_extension": ".py",
   "mimetype": "text/x-python",
   "name": "python",
   "nbconvert_exporter": "python",
   "pygments_lexer": "ipython3",
   "version": "3.6.9"
  }
 },
 "nbformat": 4,
 "nbformat_minor": 4
}
